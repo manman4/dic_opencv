{
 "cells": [
  {
   "cell_type": "code",
   "execution_count": 3,
   "metadata": {},
   "outputs": [
    {
     "name": "stdout",
     "output_type": "stream",
     "text": [
      "再生中: 16.17秒 unko.mp4\n",
      "再生中: 5.17秒 unko.mp4\n",
      "動画一覧を video_list.csv に保存しました。\n"
     ]
    }
   ],
   "source": [
    "import cv2\n",
    "import os\n",
    "import glob\n",
    "import csv\n",
    "\n",
    "# 動画フォルダのパス（適宜変更）\n",
    "folder_path = \"./sample\"\n",
    "\n",
    "# 出力する CSV ファイル名\n",
    "csv_filename = \"video_list.csv\"\n",
    "\n",
    "# 指定フォルダ内のすべての動画ファイルを（サブフォルダも含めて）取得\n",
    "video_files = sorted(glob.glob(os.path.join(folder_path, \"**\", \"*.mp4\"), recursive=True))  # 拡張子を適宜変更\n",
    "\n",
    "# CSV に出力するデータを格納するリスト\n",
    "video_data = [[\"ファイル名\", \"再生時間（秒）\"]]  # ヘッダー\n",
    "\n",
    "if not video_files:\n",
    "    print(\"動画ファイルが見つかりません。\")\n",
    "else:\n",
    "    for video in video_files:\n",
    "        cap = cv2.VideoCapture(video)\n",
    "\n",
    "        # FPS と 総フレーム数を取得\n",
    "        fps = cap.get(cv2.CAP_PROP_FPS)\n",
    "        frame_count = cap.get(cv2.CAP_PROP_FRAME_COUNT)\n",
    "\n",
    "        # 総再生時間を計算（秒）\n",
    "        duration = frame_count / fps if fps > 0 else 0\n",
    "\n",
    "        # ファイル名だけを取得（フルパスではなく）\n",
    "        video_name = os.path.basename(video)\n",
    "\n",
    "        print(f\"再生中: {duration:.2f}秒 {video_name}\")\n",
    "\n",
    "        # CSV に追加\n",
    "        video_data.append([video_name, f\"{duration:.2f}\"])\n",
    "\n",
    "        while cap.isOpened():\n",
    "            ret, frame = cap.read()\n",
    "            if not ret:  # 動画の最後まで再生したら次へ\n",
    "                break\n",
    "\n",
    "            cv2.imshow(\"Video Player\", frame)\n",
    "\n",
    "            # 動画のフレームレートに応じた待機時間を設定\n",
    "            wait_time = int(1000 / fps) if fps > 0 else 30  # FPSが取得できない場合は30ms\n",
    "\n",
    "            # 指定時間ごとにフレームを更新、'q' で強制終了\n",
    "            key = cv2.waitKey(wait_time) & 0xFF\n",
    "            if key == ord('q'):\n",
    "                cap.release()\n",
    "                cv2.destroyAllWindows()\n",
    "                exit()\n",
    "\n",
    "        cap.release()\n",
    "        cv2.destroyAllWindows()  # 各動画終了時にウィンドウを閉じる\n",
    "\n",
    "    # CSV に保存\n",
    "    with open(csv_filename, mode=\"w\", newline=\"\", encoding=\"utf-8\") as f:\n",
    "        writer = csv.writer(f)\n",
    "        writer.writerows(video_data)\n",
    "\n",
    "    print(f\"動画一覧を {csv_filename} に保存しました。\")\n",
    "\n",
    "    # 最後の動画終了後に念のためウィンドウを閉じる\n",
    "    cv2.waitKey(1)\n",
    "    cv2.destroyAllWindows()\n",
    "    cv2.waitKey(1)\n",
    "\n"
   ]
  }
 ],
 "metadata": {
  "kernelspec": {
   "display_name": "base",
   "language": "python",
   "name": "python3"
  },
  "language_info": {
   "codemirror_mode": {
    "name": "ipython",
    "version": 3
   },
   "file_extension": ".py",
   "mimetype": "text/x-python",
   "name": "python",
   "nbconvert_exporter": "python",
   "pygments_lexer": "ipython3",
   "version": "3.11.5"
  }
 },
 "nbformat": 4,
 "nbformat_minor": 2
}
