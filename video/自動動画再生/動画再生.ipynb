{
 "cells": [
  {
   "cell_type": "code",
   "execution_count": 2,
   "metadata": {},
   "outputs": [
    {
     "name": "stdout",
     "output_type": "stream",
     "text": [
      "再生中: ./sample/aaa/unko.mp4\n",
      "再生中: ./sample/bbb/unko.mp4\n"
     ]
    }
   ],
   "source": [
    "import cv2\n",
    "import os\n",
    "import glob\n",
    "\n",
    "# 動画フォルダのパス（適宜変更）\n",
    "folder_path = \"./sample\"\n",
    "\n",
    "# 指定フォルダ内のすべての動画ファイルを（サブフォルダも含めて）取得\n",
    "video_files = sorted(glob.glob(os.path.join(folder_path, \"**\", \"*.mp4\"), recursive=True))  # 拡張子を適宜変更\n",
    "\n",
    "if not video_files:\n",
    "    print(\"動画ファイルが見つかりません。\")\n",
    "else:\n",
    "    for video in video_files:\n",
    "        print(f\"再生中: {video}\")\n",
    "        cap = cv2.VideoCapture(video)\n",
    "\n",
    "        while cap.isOpened():\n",
    "            ret, frame = cap.read()\n",
    "            if not ret:  # 動画の最後まで再生したら次へ\n",
    "                break\n",
    "\n",
    "            cv2.imshow(\"Video Player\", frame)\n",
    "\n",
    "            # 25ms ごとにフレームを更新、'q' で強制終了\n",
    "            if cv2.waitKey(25) & 0xFF == ord('q'):\n",
    "                cap.release()\n",
    "                cv2.destroyAllWindows()\n",
    "                exit()\n",
    "\n",
    "        cap.release()\n",
    "        cv2.destroyAllWindows()  # 各動画終了時にウィンドウを閉じる\n",
    "\n",
    "    # 最後の動画終了後にも念のためウィンドウを閉じる\n",
    "    cv2.waitKey(1)  # 一度キー入力を処理\n",
    "    cv2.destroyAllWindows()\n",
    "    cv2.waitKey(1)  # 確実にウィンドウを閉じるための再呼び出し\n"
   ]
  }
 ],
 "metadata": {
  "kernelspec": {
   "display_name": "base",
   "language": "python",
   "name": "python3"
  },
  "language_info": {
   "codemirror_mode": {
    "name": "ipython",
    "version": 3
   },
   "file_extension": ".py",
   "mimetype": "text/x-python",
   "name": "python",
   "nbconvert_exporter": "python",
   "pygments_lexer": "ipython3",
   "version": "3.11.5"
  }
 },
 "nbformat": 4,
 "nbformat_minor": 2
}
